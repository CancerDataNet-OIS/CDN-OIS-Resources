{
 "cells": [
  {
   "cell_type": "markdown",
   "id": "781a1353",
   "metadata": {},
   "source": [
    "*Snippet kindly shared by Ofer Mendelevitch (ofer@syntegra.io)*"
   ]
  },
  {
   "cell_type": "code",
   "execution_count": null,
   "id": "2f93be69",
   "metadata": {},
   "outputs": [],
   "source": [
    "import pandas as pd\n",
    "import numpy as np\n",
    "import matplotlib.pyplot as plt\n",
    "\n",
    "import plotly.express as px\n",
    "import plotly.graph_objects as go\n",
    "from plotly.subplots import make_subplots\n",
    "\n",
    "from typing import List, Dict, Any, Tuple"
   ]
  },
  {
   "cell_type": "code",
   "execution_count": 1,
   "id": "db9e2d34",
   "metadata": {},
   "outputs": [
    {
     "ename": "NameError",
     "evalue": "name 'pd' is not defined",
     "output_type": "error",
     "traceback": [
      "\u001b[0;31m---------------------------------------------------------------------------\u001b[0m",
      "\u001b[0;31mNameError\u001b[0m                                 Traceback (most recent call last)",
      "Input \u001b[0;32mIn [1]\u001b[0m, in \u001b[0;36m<cell line: 5>\u001b[0;34m()\u001b[0m\n\u001b[1;32m      2\u001b[0m \u001b[38;5;28;01mimport\u001b[39;00m \u001b[38;5;21;01mplotly\u001b[39;00m\u001b[38;5;21;01m.\u001b[39;00m\u001b[38;5;21;01mgraph_objects\u001b[39;00m \u001b[38;5;28;01mas\u001b[39;00m \u001b[38;5;21;01mgo\u001b[39;00m  \u001b[38;5;66;03m# type: ignore\u001b[39;00m\n\u001b[1;32m      3\u001b[0m \u001b[38;5;28;01mfrom\u001b[39;00m \u001b[38;5;21;01mplotly\u001b[39;00m\u001b[38;5;21;01m.\u001b[39;00m\u001b[38;5;21;01msubplots\u001b[39;00m \u001b[38;5;28;01mimport\u001b[39;00m make_subplots \u001b[38;5;66;03m# type: ignore\u001b[39;00m\n\u001b[0;32m----> 5\u001b[0m \u001b[38;5;28;01mdef\u001b[39;00m \u001b[38;5;21mgen_sankey\u001b[39m(df: \u001b[43mpd\u001b[49m\u001b[38;5;241m.\u001b[39mDataFrame, all_labels, label_to_color, regimens):\n\u001b[1;32m      7\u001b[0m     tx_dfs \u001b[38;5;241m=\u001b[39m []\n\u001b[1;32m      8\u001b[0m     \u001b[38;5;28;01mfor\u001b[39;00m i \u001b[38;5;129;01min\u001b[39;00m \u001b[38;5;28mrange\u001b[39m(\u001b[38;5;28mlen\u001b[39m(phases)\u001b[38;5;241m-\u001b[39m\u001b[38;5;241m1\u001b[39m):\n",
      "\u001b[0;31mNameError\u001b[0m: name 'pd' is not defined"
     ]
    }
   ],
   "source": [
    "def gen_sankey(df: pd.DataFrame, all_labels, label_to_color, regimens):\n",
    "\n",
    "    tx_dfs = []\n",
    "    for i in range(len(phases)-1):\n",
    "        source = phases[i]\n",
    "        dest = phases[i+1]\n",
    "        tx = pd.DataFrame({\n",
    "            'source_label': df[source].map(lambda x: source[:5]+x if pd.isnull(x)==False else np.NaN),\n",
    "            'target_label': df[dest].map(lambda x: dest[:5]+x if pd.isnull(x)==False else np.NaN),\n",
    "        })\n",
    "        tx = tx[(tx.source_label.isnull()==False) & (tx.target_label.isnull()==False)]\n",
    "        tx_dfs.append(tx)\n",
    "    tx_df = pd.concat(tx_dfs, axis=0, ignore_index=True)\n",
    "\n",
    "    for p in phases:\n",
    "        tx_df = tx_df[tx_df.source_label.map(lambda x: (x[:5]==p[:5] and x[5:] in regimens[p]) or x[:5]!=p[:5])]\n",
    "        tx_df = tx_df[tx_df.target_label.map(lambda x: (x[:5]==p[:5] and x[5:] in regimens[p]) or x[:5]!=p[:5])]\n",
    "    tx_df['value'] = 1\n",
    "    tx_df = tx_df.groupby(['source_label', 'target_label'])['value'].count().reset_index(drop=False)\n",
    "\n",
    "    if all_labels is None:\n",
    "        all_labels = list(set(tx_df.source_label.unique().tolist() + tx_df.target_label.unique().tolist()))\n",
    "    label_map = {label: i for i,label in enumerate(all_labels)}\n",
    "    rev_label_map = {i:label for label,i in label_map.items()}\n",
    "\n",
    "    tx_df['source'] = tx_df['source_label'].map(lambda x: label_map[x])\n",
    "    tx_df['target'] = tx_df['target_label'].map(lambda x: label_map[x])\n",
    "    tx_df['color'] = tx_df.source_label.map(lambda x: label_to_color[x[5:]])\n",
    "\n",
    "    fig = go.Figure(data=[go.Sankey(\n",
    "        node = dict(\n",
    "            pad = 10,\n",
    "            thickness = 10,\n",
    "            line = dict(color = \"black\", width = 0.5),\n",
    "            label = [c[5:] for c in all_labels],\n",
    "            color = [label_to_color[lbl[5:]] for lbl in all_labels]\n",
    "        ),\n",
    "        link = dict(\n",
    "            source = tx_df.source.tolist(),\n",
    "            target = tx_df.target.tolist(),\n",
    "            value = tx_df.value.tolist(),\n",
    "            color = tx_df.color.tolist()\n",
    "        )\n",
    "    )])\n",
    "    return fig\n"
   ]
  },
  {
   "cell_type": "code",
   "execution_count": null,
   "id": "f99a6149",
   "metadata": {},
   "outputs": [],
   "source": [
    "phases = ['pttm_regimen', 'm1tm_regimen', 'm2tm_regimen', 'm3tm_regimen', 'm4tm_regimen', 'm5tm_regimen'][:4]\n",
    "n_regimens = 5\n",
    "\n",
    "# Generate all labels up-front, based on top regimen in each phase (line of treatment)\n",
    "all_labels = []\n",
    "for p in phases:\n",
    "    all_labels.extend(real[p].map(lambda x: f'{p[:5]}{x}').value_counts(dropna=True).index)\n",
    "all_labels = list(set(all_labels))\n",
    "\n",
    "# Pick top <n_regimens> most common regimens for each phase\n",
    "regimens = {}\n",
    "for p in phases:\n",
    "    regimens[p] = real[p].value_counts(dropna=True).index[:n_regimens].tolist()\n",
    "\n",
    "# calculate label_to_color - doing this upfront so that the colors are consistent across real and synthetic\n",
    "colors = px.colors.qualitative.Pastel  # you can choose a different color map\n",
    "nColors = len(colors)\n",
    "label_to_color = {}\n",
    "inx = 0\n",
    "for lbl in all_labels:\n",
    "    if lbl[5:] not in label_to_color:\n",
    "        label_to_color[lbl[5:]] = colors[inx%nColors]\n",
    "        inx += 1\n",
    "\n",
    "\n",
    "# read input flies\n",
    "real = pd.read_csv('real.csv')  # replace with correct file name for Real\n",
    "syn = pd.read_csv('syn.csv')    # replace with correct file name for Synthetic\n",
    "        \n",
    "# sample dataframes to make sure they are the same size\n",
    "n = min(len(real), len(syn))\n",
    "real_fig = gen_sankey(real.sample(n, random_state=42), all_labels, label_to_color, regimens)\n",
    "syn_fig = gen_sankey(syn.sample(n, random_state=42), all_labels, label_to_color, regimens)\n",
    "\n",
    "template = 'plotly_white'\n",
    "fig = make_subplots(rows=2, cols=1,\n",
    "                    specs=[ [{\"type\": \"sankey\"}], [{\"type\": \"sankey\"}] ],\n",
    "                    row_titles = ['Real', 'Synthetic'], vertical_spacing=0.02)\n",
    "fig.add_trace(real_fig.data[0], row=1, col=1)\n",
    "fig.add_trace(syn_fig.data[0], row=2, col=1)\n",
    "fig.update_layout(autosize=False, width=1000, height=600,\n",
    "                  margin = dict(t=10, l=1, r=5, b=10), template=template, \n",
    "                  font=dict(color = 'black', size=10))\n",
    "fig\n"
   ]
  }
 ],
 "metadata": {
  "kernelspec": {
   "display_name": "py38",
   "language": "python",
   "name": "py38"
  },
  "language_info": {
   "codemirror_mode": {
    "name": "ipython",
    "version": 3
   },
   "file_extension": ".py",
   "mimetype": "text/x-python",
   "name": "python",
   "nbconvert_exporter": "python",
   "pygments_lexer": "ipython3",
   "version": "3.8.13"
  }
 },
 "nbformat": 4,
 "nbformat_minor": 5
}
